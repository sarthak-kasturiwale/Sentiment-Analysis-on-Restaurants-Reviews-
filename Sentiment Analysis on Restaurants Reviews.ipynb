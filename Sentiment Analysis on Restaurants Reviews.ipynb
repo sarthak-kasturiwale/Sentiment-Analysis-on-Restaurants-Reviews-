{
 "cells": [
  {
   "cell_type": "markdown",
   "metadata": {},
   "source": [
    "# Sentiment Analysis on Restaurants Reviews"
   ]
  },
  {
   "cell_type": "markdown",
   "metadata": {},
   "source": [
    "# Introduction"
   ]
  },
  {
   "cell_type": "markdown",
   "metadata": {},
   "source": [
    "- Natural language processing (NLP) is a subfield of computer science and artificial intelligence concerned with the interactions between computers and human (natural) languages.\n",
    "- In this project, we will try to analyse the sentiments of Reviewers using machine learning which will help in identifying whether a given review is a positive or negative."
   ]
  },
  {
   "cell_type": "markdown",
   "metadata": {},
   "source": [
    "# Context"
   ]
  },
  {
   "cell_type": "markdown",
   "metadata": {},
   "source": [
    "- Most of the Restaurants ask reviews to the customers and based on the reviews the restaurant can improve the customer satisfaction. So Reviews plays a vital role for the successful growth of the restaurant."
   ]
  },
  {
   "cell_type": "markdown",
   "metadata": {},
   "source": [
    "# Content"
   ]
  },
  {
   "cell_type": "markdown",
   "metadata": {},
   "source": [
    "- The dataset consists of 1000 rows and 2 columns. Review Column consist of customer reviews and like column consist of 0 and 1. If the review is positive, 1 and if negative, 0."
   ]
  },
  {
   "cell_type": "markdown",
   "metadata": {},
   "source": [
    "# Importing Dependencies"
   ]
  },
  {
   "cell_type": "code",
   "execution_count": 1,
   "metadata": {},
   "outputs": [],
   "source": [
    "# Basic Libraries\n",
    "import numpy as np\n",
    "import pandas as pd\n",
    "import matplotlib.pyplot as plt\n",
    "\n",
    "# Sk-learn Libraries \n",
    "from sklearn.naive_bayes import MultinomialNB\n",
    "from sklearn.feature_extraction.text import TfidfTransformer\n",
    "from sklearn.model_selection import train_test_split\n",
    "from sklearn.feature_extraction.text import CountVectorizer\n",
    "from sklearn import metrics\n",
    "from sklearn.linear_model import LogisticRegression\n",
    "from sklearn.svm import SVC\n",
    "from sklearn.ensemble import RandomForestClassifier\n",
    "\n",
    "# NLP Libraries\n",
    "import re\n",
    "import itertools\n",
    "import nltk\n",
    "from nltk.stem import WordNetLemmatizer\n",
    "from nltk.corpus import stopwords\n",
    "\n",
    "# Other Libraries\n",
    "import string\n",
    "from collections import Counter\n",
    "\n",
    "# Keras Libraries\n",
    "from tensorflow.keras.models import Model\n",
    "from tensorflow.keras.layers import LSTM, Activation, Dense, Dropout, Input, Embedding\n",
    "from tensorflow.keras.optimizers import RMSprop\n",
    "from tensorflow.keras.preprocessing.text import Tokenizer\n",
    "from tensorflow.keras.preprocessing import sequence\n",
    "from tensorflow.keras.utils import to_categorical\n",
    "from tensorflow.keras.callbacks import EarlyStopping\n",
    "%matplotlib inline"
   ]
  },
  {
   "cell_type": "markdown",
   "metadata": {},
   "source": [
    "# 2. Reading the dataset"
   ]
  },
  {
   "cell_type": "code",
   "execution_count": 2,
   "metadata": {},
   "outputs": [
    {
     "data": {
      "text/html": [
       "<div>\n",
       "<style scoped>\n",
       "    .dataframe tbody tr th:only-of-type {\n",
       "        vertical-align: middle;\n",
       "    }\n",
       "\n",
       "    .dataframe tbody tr th {\n",
       "        vertical-align: top;\n",
       "    }\n",
       "\n",
       "    .dataframe thead th {\n",
       "        text-align: right;\n",
       "    }\n",
       "</style>\n",
       "<table border=\"1\" class=\"dataframe\">\n",
       "  <thead>\n",
       "    <tr style=\"text-align: right;\">\n",
       "      <th></th>\n",
       "      <th>Review</th>\n",
       "      <th>Liked</th>\n",
       "    </tr>\n",
       "  </thead>\n",
       "  <tbody>\n",
       "    <tr>\n",
       "      <th>0</th>\n",
       "      <td>Wow... Loved this place.</td>\n",
       "      <td>1</td>\n",
       "    </tr>\n",
       "    <tr>\n",
       "      <th>1</th>\n",
       "      <td>Crust is not good.</td>\n",
       "      <td>0</td>\n",
       "    </tr>\n",
       "    <tr>\n",
       "      <th>2</th>\n",
       "      <td>Not tasty and the texture was just nasty.</td>\n",
       "      <td>0</td>\n",
       "    </tr>\n",
       "    <tr>\n",
       "      <th>3</th>\n",
       "      <td>Stopped by during the late May bank holiday of...</td>\n",
       "      <td>1</td>\n",
       "    </tr>\n",
       "    <tr>\n",
       "      <th>4</th>\n",
       "      <td>The selection on the menu was great and so wer...</td>\n",
       "      <td>1</td>\n",
       "    </tr>\n",
       "  </tbody>\n",
       "</table>\n",
       "</div>"
      ],
      "text/plain": [
       "                                              Review  Liked\n",
       "0                           Wow... Loved this place.      1\n",
       "1                                 Crust is not good.      0\n",
       "2          Not tasty and the texture was just nasty.      0\n",
       "3  Stopped by during the late May bank holiday of...      1\n",
       "4  The selection on the menu was great and so wer...      1"
      ]
     },
     "execution_count": 2,
     "metadata": {},
     "output_type": "execute_result"
    }
   ],
   "source": [
    "# Use correct separator as data is tabular separated.\n",
    "\n",
    "reviews_data = pd.read_csv('Restaurant_Reviews.tsv', sep = '\\t', quoting = 3)\n",
    "reviews_data.head()"
   ]
  },
  {
   "cell_type": "markdown",
   "metadata": {},
   "source": [
    "# 3. Exploratory Data Analysis (EDA)"
   ]
  },
  {
   "cell_type": "code",
   "execution_count": 3,
   "metadata": {},
   "outputs": [
    {
     "data": {
      "text/html": [
       "<div>\n",
       "<style scoped>\n",
       "    .dataframe tbody tr th:only-of-type {\n",
       "        vertical-align: middle;\n",
       "    }\n",
       "\n",
       "    .dataframe tbody tr th {\n",
       "        vertical-align: top;\n",
       "    }\n",
       "\n",
       "    .dataframe thead th {\n",
       "        text-align: right;\n",
       "    }\n",
       "</style>\n",
       "<table border=\"1\" class=\"dataframe\">\n",
       "  <thead>\n",
       "    <tr style=\"text-align: right;\">\n",
       "      <th></th>\n",
       "      <th>Liked</th>\n",
       "    </tr>\n",
       "  </thead>\n",
       "  <tbody>\n",
       "    <tr>\n",
       "      <th>count</th>\n",
       "      <td>1000.00000</td>\n",
       "    </tr>\n",
       "    <tr>\n",
       "      <th>mean</th>\n",
       "      <td>0.50000</td>\n",
       "    </tr>\n",
       "    <tr>\n",
       "      <th>std</th>\n",
       "      <td>0.50025</td>\n",
       "    </tr>\n",
       "    <tr>\n",
       "      <th>min</th>\n",
       "      <td>0.00000</td>\n",
       "    </tr>\n",
       "    <tr>\n",
       "      <th>25%</th>\n",
       "      <td>0.00000</td>\n",
       "    </tr>\n",
       "    <tr>\n",
       "      <th>50%</th>\n",
       "      <td>0.50000</td>\n",
       "    </tr>\n",
       "    <tr>\n",
       "      <th>75%</th>\n",
       "      <td>1.00000</td>\n",
       "    </tr>\n",
       "    <tr>\n",
       "      <th>max</th>\n",
       "      <td>1.00000</td>\n",
       "    </tr>\n",
       "  </tbody>\n",
       "</table>\n",
       "</div>"
      ],
      "text/plain": [
       "            Liked\n",
       "count  1000.00000\n",
       "mean      0.50000\n",
       "std       0.50025\n",
       "min       0.00000\n",
       "25%       0.00000\n",
       "50%       0.50000\n",
       "75%       1.00000\n",
       "max       1.00000"
      ]
     },
     "execution_count": 3,
     "metadata": {},
     "output_type": "execute_result"
    }
   ],
   "source": [
    "# Let's check out some of the stats with some plots and the built-in methods in pandas!\n",
    "reviews_data.describe()"
   ]
  },
  {
   "cell_type": "code",
   "execution_count": 4,
   "metadata": {},
   "outputs": [
    {
     "data": {
      "text/html": [
       "<div>\n",
       "<style scoped>\n",
       "    .dataframe tbody tr th:only-of-type {\n",
       "        vertical-align: middle;\n",
       "    }\n",
       "\n",
       "    .dataframe tbody tr th {\n",
       "        vertical-align: top;\n",
       "    }\n",
       "\n",
       "    .dataframe thead tr th {\n",
       "        text-align: left;\n",
       "    }\n",
       "\n",
       "    .dataframe thead tr:last-of-type th {\n",
       "        text-align: right;\n",
       "    }\n",
       "</style>\n",
       "<table border=\"1\" class=\"dataframe\">\n",
       "  <thead>\n",
       "    <tr>\n",
       "      <th></th>\n",
       "      <th colspan=\"4\" halign=\"left\">Review</th>\n",
       "    </tr>\n",
       "    <tr>\n",
       "      <th></th>\n",
       "      <th>count</th>\n",
       "      <th>unique</th>\n",
       "      <th>top</th>\n",
       "      <th>freq</th>\n",
       "    </tr>\n",
       "    <tr>\n",
       "      <th>Liked</th>\n",
       "      <th></th>\n",
       "      <th></th>\n",
       "      <th></th>\n",
       "      <th></th>\n",
       "    </tr>\n",
       "  </thead>\n",
       "  <tbody>\n",
       "    <tr>\n",
       "      <th>0</th>\n",
       "      <td>500</td>\n",
       "      <td>497</td>\n",
       "      <td>The food was terrible.</td>\n",
       "      <td>2</td>\n",
       "    </tr>\n",
       "    <tr>\n",
       "      <th>1</th>\n",
       "      <td>500</td>\n",
       "      <td>499</td>\n",
       "      <td>I love this place.</td>\n",
       "      <td>2</td>\n",
       "    </tr>\n",
       "  </tbody>\n",
       "</table>\n",
       "</div>"
      ],
      "text/plain": [
       "      Review                                    \n",
       "       count unique                     top freq\n",
       "Liked                                           \n",
       "0        500    497  The food was terrible.    2\n",
       "1        500    499      I love this place.    2"
      ]
     },
     "execution_count": 4,
     "metadata": {},
     "output_type": "execute_result"
    }
   ],
   "source": [
    "# Let's use groupby to use describe by Liked, this way we can begin to think about the features that separate \n",
    "# Positive or Negative!\n",
    "\n",
    "reviews_data.groupby('Liked').describe()"
   ]
  },
  {
   "cell_type": "markdown",
   "metadata": {},
   "source": [
    "**Observations:**\n",
    "- Here some Duplicate rows are observed. So, lets remove them."
   ]
  },
  {
   "cell_type": "code",
   "execution_count": 5,
   "metadata": {},
   "outputs": [
    {
     "name": "stdout",
     "output_type": "stream",
     "text": [
      "<class 'pandas.core.frame.DataFrame'>\n",
      "RangeIndex: 1000 entries, 0 to 999\n",
      "Data columns (total 2 columns):\n",
      " #   Column  Non-Null Count  Dtype \n",
      "---  ------  --------------  ----- \n",
      " 0   Review  1000 non-null   object\n",
      " 1   Liked   1000 non-null   int64 \n",
      "dtypes: int64(1), object(1)\n",
      "memory usage: 15.8+ KB\n"
     ]
    }
   ],
   "source": [
    "reviews_data.info()"
   ]
  },
  {
   "cell_type": "code",
   "execution_count": 6,
   "metadata": {},
   "outputs": [],
   "source": [
    "reviews_data.drop_duplicates(inplace = True)"
   ]
  },
  {
   "cell_type": "code",
   "execution_count": 7,
   "metadata": {},
   "outputs": [
    {
     "data": {
      "text/html": [
       "<div>\n",
       "<style scoped>\n",
       "    .dataframe tbody tr th:only-of-type {\n",
       "        vertical-align: middle;\n",
       "    }\n",
       "\n",
       "    .dataframe tbody tr th {\n",
       "        vertical-align: top;\n",
       "    }\n",
       "\n",
       "    .dataframe thead th {\n",
       "        text-align: right;\n",
       "    }\n",
       "</style>\n",
       "<table border=\"1\" class=\"dataframe\">\n",
       "  <thead>\n",
       "    <tr style=\"text-align: right;\">\n",
       "      <th></th>\n",
       "      <th>Review</th>\n",
       "      <th>Liked</th>\n",
       "    </tr>\n",
       "  </thead>\n",
       "  <tbody>\n",
       "    <tr>\n",
       "      <th>0</th>\n",
       "      <td>Wow... Loved this place.</td>\n",
       "      <td>1</td>\n",
       "    </tr>\n",
       "    <tr>\n",
       "      <th>1</th>\n",
       "      <td>Crust is not good.</td>\n",
       "      <td>0</td>\n",
       "    </tr>\n",
       "    <tr>\n",
       "      <th>2</th>\n",
       "      <td>Not tasty and the texture was just nasty.</td>\n",
       "      <td>0</td>\n",
       "    </tr>\n",
       "    <tr>\n",
       "      <th>3</th>\n",
       "      <td>Stopped by during the late May bank holiday of...</td>\n",
       "      <td>1</td>\n",
       "    </tr>\n",
       "    <tr>\n",
       "      <th>4</th>\n",
       "      <td>The selection on the menu was great and so wer...</td>\n",
       "      <td>1</td>\n",
       "    </tr>\n",
       "  </tbody>\n",
       "</table>\n",
       "</div>"
      ],
      "text/plain": [
       "                                              Review  Liked\n",
       "0                           Wow... Loved this place.      1\n",
       "1                                 Crust is not good.      0\n",
       "2          Not tasty and the texture was just nasty.      0\n",
       "3  Stopped by during the late May bank holiday of...      1\n",
       "4  The selection on the menu was great and so wer...      1"
      ]
     },
     "execution_count": 7,
     "metadata": {},
     "output_type": "execute_result"
    }
   ],
   "source": [
    "reviews_data.head()"
   ]
  },
  {
   "cell_type": "code",
   "execution_count": 8,
   "metadata": {},
   "outputs": [
    {
     "data": {
      "text/html": [
       "<div>\n",
       "<style scoped>\n",
       "    .dataframe tbody tr th:only-of-type {\n",
       "        vertical-align: middle;\n",
       "    }\n",
       "\n",
       "    .dataframe tbody tr th {\n",
       "        vertical-align: top;\n",
       "    }\n",
       "\n",
       "    .dataframe thead tr th {\n",
       "        text-align: left;\n",
       "    }\n",
       "\n",
       "    .dataframe thead tr:last-of-type th {\n",
       "        text-align: right;\n",
       "    }\n",
       "</style>\n",
       "<table border=\"1\" class=\"dataframe\">\n",
       "  <thead>\n",
       "    <tr>\n",
       "      <th></th>\n",
       "      <th colspan=\"4\" halign=\"left\">Review</th>\n",
       "    </tr>\n",
       "    <tr>\n",
       "      <th></th>\n",
       "      <th>count</th>\n",
       "      <th>unique</th>\n",
       "      <th>top</th>\n",
       "      <th>freq</th>\n",
       "    </tr>\n",
       "    <tr>\n",
       "      <th>Liked</th>\n",
       "      <th></th>\n",
       "      <th></th>\n",
       "      <th></th>\n",
       "      <th></th>\n",
       "    </tr>\n",
       "  </thead>\n",
       "  <tbody>\n",
       "    <tr>\n",
       "      <th>0</th>\n",
       "      <td>497</td>\n",
       "      <td>497</td>\n",
       "      <td>Why are these sad little vegetables so overcoo...</td>\n",
       "      <td>1</td>\n",
       "    </tr>\n",
       "    <tr>\n",
       "      <th>1</th>\n",
       "      <td>499</td>\n",
       "      <td>499</td>\n",
       "      <td>Awesome service and food.</td>\n",
       "      <td>1</td>\n",
       "    </tr>\n",
       "  </tbody>\n",
       "</table>\n",
       "</div>"
      ],
      "text/plain": [
       "      Review                                                               \n",
       "       count unique                                                top freq\n",
       "Liked                                                                      \n",
       "0        497    497  Why are these sad little vegetables so overcoo...    1\n",
       "1        499    499                          Awesome service and food.    1"
      ]
     },
     "execution_count": 8,
     "metadata": {},
     "output_type": "execute_result"
    }
   ],
   "source": [
    "reviews_data.groupby('Liked').describe()"
   ]
  },
  {
   "cell_type": "code",
   "execution_count": 9,
   "metadata": {},
   "outputs": [
    {
     "data": {
      "text/html": [
       "<div>\n",
       "<style scoped>\n",
       "    .dataframe tbody tr th:only-of-type {\n",
       "        vertical-align: middle;\n",
       "    }\n",
       "\n",
       "    .dataframe tbody tr th {\n",
       "        vertical-align: top;\n",
       "    }\n",
       "\n",
       "    .dataframe thead th {\n",
       "        text-align: right;\n",
       "    }\n",
       "</style>\n",
       "<table border=\"1\" class=\"dataframe\">\n",
       "  <thead>\n",
       "    <tr style=\"text-align: right;\">\n",
       "      <th></th>\n",
       "      <th>Review</th>\n",
       "      <th>Liked</th>\n",
       "      <th>review_length</th>\n",
       "    </tr>\n",
       "  </thead>\n",
       "  <tbody>\n",
       "    <tr>\n",
       "      <th>0</th>\n",
       "      <td>Wow... Loved this place.</td>\n",
       "      <td>1</td>\n",
       "      <td>24</td>\n",
       "    </tr>\n",
       "    <tr>\n",
       "      <th>1</th>\n",
       "      <td>Crust is not good.</td>\n",
       "      <td>0</td>\n",
       "      <td>18</td>\n",
       "    </tr>\n",
       "    <tr>\n",
       "      <th>2</th>\n",
       "      <td>Not tasty and the texture was just nasty.</td>\n",
       "      <td>0</td>\n",
       "      <td>41</td>\n",
       "    </tr>\n",
       "    <tr>\n",
       "      <th>3</th>\n",
       "      <td>Stopped by during the late May bank holiday of...</td>\n",
       "      <td>1</td>\n",
       "      <td>87</td>\n",
       "    </tr>\n",
       "    <tr>\n",
       "      <th>4</th>\n",
       "      <td>The selection on the menu was great and so wer...</td>\n",
       "      <td>1</td>\n",
       "      <td>59</td>\n",
       "    </tr>\n",
       "  </tbody>\n",
       "</table>\n",
       "</div>"
      ],
      "text/plain": [
       "                                              Review  Liked  review_length\n",
       "0                           Wow... Loved this place.      1             24\n",
       "1                                 Crust is not good.      0             18\n",
       "2          Not tasty and the texture was just nasty.      0             41\n",
       "3  Stopped by during the late May bank holiday of...      1             87\n",
       "4  The selection on the menu was great and so wer...      1             59"
      ]
     },
     "execution_count": 9,
     "metadata": {},
     "output_type": "execute_result"
    }
   ],
   "source": [
    "# Let's make a new column to detect how long reviews are:\n",
    "reviews_data['review_length'] = reviews_data['Review'].apply(len)\n",
    "reviews_data.head()"
   ]
  },
  {
   "cell_type": "code",
   "execution_count": 10,
   "metadata": {},
   "outputs": [
    {
     "data": {
      "text/plain": [
       "count    996.000000\n",
       "mean      58.459839\n",
       "std       32.341292\n",
       "min       11.000000\n",
       "25%       33.000000\n",
       "50%       51.000000\n",
       "75%       80.000000\n",
       "max      149.000000\n",
       "Name: review_length, dtype: float64"
      ]
     },
     "execution_count": 10,
     "metadata": {},
     "output_type": "execute_result"
    }
   ],
   "source": [
    "# Analysing the 'review_length' feature\n",
    "reviews_data['review_length'].describe()"
   ]
  },
  {
   "cell_type": "code",
   "execution_count": 11,
   "metadata": {},
   "outputs": [
    {
     "data": {
      "text/plain": [
       "'The problem I have is that they charge $11.99 for a sandwich that is no bigger than a Subway sub (which offers better and more amount of vegetables).'"
      ]
     },
     "execution_count": 11,
     "metadata": {},
     "output_type": "execute_result"
    }
   ],
   "source": [
    "# Max is 149 characters, let's use masking to find this review\n",
    "reviews_data[reviews_data['review_length'] == 149]['Review'].iloc[0]"
   ]
  },
  {
   "cell_type": "code",
   "execution_count": 12,
   "metadata": {},
   "outputs": [
    {
     "data": {
      "text/plain": [
       "[Text(0.5, 0, 'Length of Review'),\n",
       " Text(0, 0.5, 'Frequency'),\n",
       " Text(0.5, 1.0, 'Negative Reviews')]"
      ]
     },
     "execution_count": 12,
     "metadata": {},
     "output_type": "execute_result"
    },
    {
     "data": {
      "image/png": "[encoded data removed]",
      "text/plain": [
       "<Figure size 864x432 with 2 Axes>"
      ]
     },
     "metadata": {
      "needs_background": "light"
     },
     "output_type": "display_data"
    }
   ],
   "source": [
    "# Lets see if message length is a distinguishing feature between ham and spam:\n",
    "\n",
    "fig,ax = plt.subplots(nrows = 1, ncols = 2, figsize = (12,6))\n",
    "\n",
    "reviews_data[reviews_data['Liked'] == 1].hist(column = 'review_length', bins = 150, ax = ax[0], color = 'green')\n",
    "ax[0].set(xlabel = 'Length of Review', ylabel = 'Frequency', title = 'Positive Reviews')\n",
    "\n",
    "reviews_data[reviews_data['Liked'] == 0].hist(column = 'review_length', bins = 50, ax = ax[1], color = 'red')\n",
    "ax[1].set(xlabel = 'Length of Review', ylabel = 'Frequency', title = 'Negative Reviews')"
   ]
  },
  {
   "cell_type": "markdown",
   "metadata": {},
   "source": [
    "**Observations:**\n",
    "- As expected Through the basic EDA we've seen that no seperation or trend has observed using 'review_length' feature."
   ]
  },
  {
   "cell_type": "markdown",
   "metadata": {},
   "source": [
    "# 4. Preprocessing"
   ]
  },
  {
   "cell_type": "markdown",
   "metadata": {},
   "source": [
    "- Our main issue with our data is that it is all in text format (strings). The classification algorithms that we've learned about so far will need some sort of numerical feature vector in order to perform the classification task.\n",
    "- There are actually many methods to convert a corpus to a vector format. The simplest is the the bag-of-words approach, where each unique word in a text will be represented by one number."
   ]
  },
  {
   "cell_type": "markdown",
   "metadata": {},
   "source": [
    "## Data Cleaning"
   ]
  },
  {
   "cell_type": "markdown",
   "metadata": {},
   "source": [
    "- text_preprocessing() function takes a sentence as it’s input and returns a cleaned sentence. This function takes care of the following"
   ]
  },
  {
   "cell_type": "code",
   "execution_count": 13,
   "metadata": {},
   "outputs": [
    {
     "data": {
      "text/plain": [
       "{'a',\n",
       " 'about',\n",
       " 'above',\n",
       " 'after',\n",
       " 'again',\n",
       " 'against',\n",
       " 'ain',\n",
       " 'all',\n",
       " 'am',\n",
       " 'an',\n",
       " 'and',\n",
       " 'any',\n",
       " 'are',\n",
       " 'aren',\n",
       " \"aren't\",\n",
       " 'as',\n",
       " 'at',\n",
       " 'be',\n",
       " 'because',\n",
       " 'been',\n",
       " 'before',\n",
       " 'being',\n",
       " 'below',\n",
       " 'between',\n",
       " 'both',\n",
       " 'but',\n",
       " 'by',\n",
       " 'can',\n",
       " 'couldn',\n",
       " \"couldn't\",\n",
       " 'd',\n",
       " 'did',\n",
       " 'didn',\n",
       " \"didn't\",\n",
       " 'do',\n",
       " 'does',\n",
       " 'doesn',\n",
       " \"doesn't\",\n",
       " 'doing',\n",
       " 'don',\n",
       " \"don't\",\n",
       " 'down',\n",
       " 'during',\n",
       " 'each',\n",
       " 'few',\n",
       " 'for',\n",
       " 'from',\n",
       " 'further',\n",
       " 'had',\n",
       " 'hadn',\n",
       " \"hadn't\",\n",
       " 'has',\n",
       " 'hasn',\n",
       " \"hasn't\",\n",
       " 'have',\n",
       " 'haven',\n",
       " \"haven't\",\n",
       " 'having',\n",
       " 'he',\n",
       " 'her',\n",
       " 'here',\n",
       " 'hers',\n",
       " 'herself',\n",
       " 'him',\n",
       " 'himself',\n",
       " 'his',\n",
       " 'how',\n",
       " 'i',\n",
       " 'if',\n",
       " 'in',\n",
       " 'into',\n",
       " 'is',\n",
       " 'isn',\n",
       " \"isn't\",\n",
       " 'it',\n",
       " \"it's\",\n",
       " 'its',\n",
       " 'itself',\n",
       " 'just',\n",
       " 'll',\n",
       " 'm',\n",
       " 'ma',\n",
       " 'me',\n",
       " 'mightn',\n",
       " \"mightn't\",\n",
       " 'more',\n",
       " 'most',\n",
       " 'mustn',\n",
       " \"mustn't\",\n",
       " 'my',\n",
       " 'myself',\n",
       " 'needn',\n",
       " \"needn't\",\n",
       " 'no',\n",
       " 'nor',\n",
       " 'not',\n",
       " 'now',\n",
       " 'o',\n",
       " 'of',\n",
       " 'off',\n",
       " 'on',\n",
       " 'once',\n",
       " 'only',\n",
       " 'or',\n",
       " 'other',\n",
       " 'our',\n",
       " 'ours',\n",
       " 'ourselves',\n",
       " 'out',\n",
       " 'over',\n",
       " 'own',\n",
       " 're',\n",
       " 's',\n",
       " 'same',\n",
       " 'shan',\n",
       " \"shan't\",\n",
       " 'she',\n",
       " \"she's\",\n",
       " 'should',\n",
       " \"should've\",\n",
       " 'shouldn',\n",
       " \"shouldn't\",\n",
       " 'so',\n",
       " 'some',\n",
       " 'such',\n",
       " 't',\n",
       " 'than',\n",
       " 'that',\n",
       " \"that'll\",\n",
       " 'the',\n",
       " 'their',\n",
       " 'theirs',\n",
       " 'them',\n",
       " 'themselves',\n",
       " 'then',\n",
       " 'there',\n",
       " 'these',\n",
       " 'they',\n",
       " 'this',\n",
       " 'those',\n",
       " 'through',\n",
       " 'to',\n",
       " 'too',\n",
       " 'under',\n",
       " 'until',\n",
       " 'up',\n",
       " 've',\n",
       " 'very',\n",
       " 'was',\n",
       " 'wasn',\n",
       " \"wasn't\",\n",
       " 'we',\n",
       " 'were',\n",
       " 'weren',\n",
       " \"weren't\",\n",
       " 'what',\n",
       " 'when',\n",
       " 'where',\n",
       " 'which',\n",
       " 'while',\n",
       " 'who',\n",
       " 'whom',\n",
       " 'why',\n",
       " 'will',\n",
       " 'with',\n",
       " 'won',\n",
       " \"won't\",\n",
       " 'wouldn',\n",
       " \"wouldn't\",\n",
       " 'y',\n",
       " 'you',\n",
       " \"you'd\",\n",
       " \"you'll\",\n",
       " \"you're\",\n",
       " \"you've\",\n",
       " 'your',\n",
       " 'yours',\n",
       " 'yourself',\n",
       " 'yourselves'}"
      ]
     },
     "execution_count": 13,
     "metadata": {},
     "output_type": "execute_result"
    }
   ],
   "source": [
    "STOPWORDS = set(stopwords.words('english'))\n",
    "STOPWORDS"
   ]
  },
  {
   "cell_type": "code",
   "execution_count": 14,
   "metadata": {},
   "outputs": [],
   "source": [
    "# Defining Certain Functions\n",
    "def text_preprocessing(review):\n",
    "    \"\"\"\n",
    "    Takes in a string of text, then performs the following:\n",
    "    1. Remove all punctuation\n",
    "    2. Remove all stopwords\n",
    "    3. Returns a list of the cleaned text\n",
    "    \"\"\"\n",
    "    \n",
    "    STOPWORDS = set(stopwords.words('english')) - set(['not', \"aren't\", \"couldn't\", \"didn't\", \"doesn't\", \"don't\"\n",
    "                                                       \"hadn't\", \"haven't\", \"isn't\", \"shan't\", \"needn't\", \"shouldn't\"\n",
    "                                                       \"wasn't\", \"wouldn't\"])\n",
    "    \n",
    "    # Check characters to see if they are in punctuation\n",
    "    nopunc = [char for char in review if char not in string.punctuation]\n",
    "\n",
    "    # Join the characters again to form the string.\n",
    "    nopunc = ''.join(nopunc)\n",
    "    \n",
    "    # Now just remove any stopwords\n",
    "    return ' '.join([word for word in nopunc.split() if word.lower() not in STOPWORDS])"
   ]
  },
  {
   "cell_type": "code",
   "execution_count": 15,
   "metadata": {},
   "outputs": [
    {
     "data": {
      "text/html": [
       "<div>\n",
       "<style scoped>\n",
       "    .dataframe tbody tr th:only-of-type {\n",
       "        vertical-align: middle;\n",
       "    }\n",
       "\n",
       "    .dataframe tbody tr th {\n",
       "        vertical-align: top;\n",
       "    }\n",
       "\n",
       "    .dataframe thead th {\n",
       "        text-align: right;\n",
       "    }\n",
       "</style>\n",
       "<table border=\"1\" class=\"dataframe\">\n",
       "  <thead>\n",
       "    <tr style=\"text-align: right;\">\n",
       "      <th></th>\n",
       "      <th>Review</th>\n",
       "      <th>Liked</th>\n",
       "      <th>review_length</th>\n",
       "      <th>cleaned_review</th>\n",
       "    </tr>\n",
       "  </thead>\n",
       "  <tbody>\n",
       "    <tr>\n",
       "      <th>0</th>\n",
       "      <td>Wow... Loved this place.</td>\n",
       "      <td>1</td>\n",
       "      <td>24</td>\n",
       "      <td>Wow Loved place</td>\n",
       "    </tr>\n",
       "    <tr>\n",
       "      <th>1</th>\n",
       "      <td>Crust is not good.</td>\n",
       "      <td>0</td>\n",
       "      <td>18</td>\n",
       "      <td>Crust not good</td>\n",
       "    </tr>\n",
       "    <tr>\n",
       "      <th>2</th>\n",
       "      <td>Not tasty and the texture was just nasty.</td>\n",
       "      <td>0</td>\n",
       "      <td>41</td>\n",
       "      <td>Not tasty texture nasty</td>\n",
       "    </tr>\n",
       "    <tr>\n",
       "      <th>3</th>\n",
       "      <td>Stopped by during the late May bank holiday of...</td>\n",
       "      <td>1</td>\n",
       "      <td>87</td>\n",
       "      <td>Stopped late May bank holiday Rick Steve recom...</td>\n",
       "    </tr>\n",
       "    <tr>\n",
       "      <th>4</th>\n",
       "      <td>The selection on the menu was great and so wer...</td>\n",
       "      <td>1</td>\n",
       "      <td>59</td>\n",
       "      <td>selection menu great prices</td>\n",
       "    </tr>\n",
       "  </tbody>\n",
       "</table>\n",
       "</div>"
      ],
      "text/plain": [
       "                                              Review  Liked  review_length  \\\n",
       "0                           Wow... Loved this place.      1             24   \n",
       "1                                 Crust is not good.      0             18   \n",
       "2          Not tasty and the texture was just nasty.      0             41   \n",
       "3  Stopped by during the late May bank holiday of...      1             87   \n",
       "4  The selection on the menu was great and so wer...      1             59   \n",
       "\n",
       "                                      cleaned_review  \n",
       "0                                    Wow Loved place  \n",
       "1                                     Crust not good  \n",
       "2                            Not tasty texture nasty  \n",
       "3  Stopped late May bank holiday Rick Steve recom...  \n",
       "4                        selection menu great prices  "
      ]
     },
     "execution_count": 15,
     "metadata": {},
     "output_type": "execute_result"
    }
   ],
   "source": [
    "# Now let's \"tokenize\" these messages. Tokenization is just the term used to describe the process of converting the\n",
    "# normal text strings in to a list of tokens (words that we actually want).\n",
    "\n",
    "reviews_data['cleaned_review'] = reviews_data.Review.apply(text_preprocessing)\n",
    "reviews_data.head()"
   ]
  },
  {
   "cell_type": "code",
   "execution_count": 16,
   "metadata": {},
   "outputs": [],
   "source": [
    "# Lets visualise the most_common words from the data"
   ]
  },
  {
   "cell_type": "code",
   "execution_count": 17,
   "metadata": {},
   "outputs": [
    {
     "name": "stdout",
     "output_type": "stream",
     "text": [
      "[('good', 73), ('great', 70), ('food', 60), ('place', 56), ('service', 46), ('friendly', 23), ('delicious', 23), ('back', 23), ('nice', 22), ('time', 22), ('really', 22), ('best', 22), ('amazing', 21), ('also', 18), ('not', 18), ('like', 17), ('restaurant', 17), ('go', 17), ('staff', 15), ('love', 15), ('vegas', 15), ('first', 13), ('menu', 12), ('always', 12), ('fantastic', 12), ('experience', 12), ('awesome', 12), ('pretty', 11), ('made', 11), ('loved', 10), ('chicken', 10), ('definitely', 10), ('fresh', 10), ('one', 10), ('steak', 10), ('excellent', 10), ('even', 10), ('pizza', 10), ('perfect', 10), ('prices', 9), ('server', 9), ('ever', 9), ('im', 9), ('atmosphere', 9), ('selection', 8), ('could', 8), ('tasty', 8), ('came', 8), ('stars', 8), ('well', 8)]\n"
     ]
    }
   ],
   "source": [
    "words = reviews_data[reviews_data.Liked == 1].cleaned_review.apply(lambda x: [word.lower() for word in x.split()])\n",
    "positive_review_words = Counter()\n",
    "\n",
    "for msg in words:\n",
    "    positive_review_words.update(msg)\n",
    "    \n",
    "print(positive_review_words.most_common(50))"
   ]
  },
  {
   "cell_type": "code",
   "execution_count": 18,
   "metadata": {},
   "outputs": [
    {
     "name": "stdout",
     "output_type": "stream",
     "text": [
      "[('not', 97), ('food', 63), ('place', 48), ('back', 37), ('service', 37), ('like', 29), ('go', 26), ('dont', 25), ('good', 22), ('never', 22), ('time', 20), ('would', 20), ('ever', 19), ('minutes', 19), ('bad', 18), ('one', 16), ('much', 15), ('got', 15), ('really', 14), ('disappointed', 14), ('wont', 14), ('worst', 13), ('think', 13), ('going', 13), ('wasnt', 13), ('ive', 13), ('came', 12), ('eat', 12), ('us', 12), ('im', 12), ('slow', 11), ('get', 11), ('wait', 11), ('bland', 11), ('better', 11), ('well', 10), ('way', 10), ('waited', 10), ('flavor', 10), ('probably', 10), ('didnt', 9), ('times', 9), ('ordered', 9), ('also', 9), ('another', 9), ('even', 9), ('terrible', 9), ('could', 8), ('say', 8), ('overpriced', 8)]\n"
     ]
    }
   ],
   "source": [
    "words = reviews_data[reviews_data.Liked == 0].cleaned_review.apply(lambda x: [word.lower() for word in x.split()])\n",
    "negative_review_words = Counter()\n",
    "\n",
    "for msg in words:\n",
    "    negative_review_words.update(msg)\n",
    "    \n",
    "print(negative_review_words.most_common(50))"
   ]
  },
  {
   "cell_type": "markdown",
   "metadata": {},
   "source": [
    "**Observations:**\n",
    "- From the above list the positive words and negative words are well seperated. So, we are on the right track"
   ]
  },
  {
   "cell_type": "markdown",
   "metadata": {},
   "source": [
    "### Train_Test_Splitting"
   ]
  },
  {
   "cell_type": "code",
   "execution_count": 19,
   "metadata": {},
   "outputs": [
    {
     "name": "stdout",
     "output_type": "stream",
     "text": [
      "(996,)\n",
      "(996,)\n"
     ]
    }
   ],
   "source": [
    "x = reviews_data.cleaned_review\n",
    "y = reviews_data.Liked\n",
    "print(x.shape)\n",
    "print(y.shape)"
   ]
  },
  {
   "cell_type": "code",
   "execution_count": 20,
   "metadata": {},
   "outputs": [
    {
     "name": "stdout",
     "output_type": "stream",
     "text": [
      "(796,)\n",
      "(200,)\n",
      "(796,)\n",
      "(200,)\n"
     ]
    }
   ],
   "source": [
    "# split X and y into training and testing sets \n",
    "\n",
    "x_train, x_test, y_train, y_test = train_test_split (x, y, random_state = 1, test_size = 0.2)\n",
    "\n",
    "print(x_train.shape)\n",
    "print(x_test.shape)\n",
    "print(y_train.shape)\n",
    "print(y_test.shape)"
   ]
  },
  {
   "cell_type": "code",
   "execution_count": 21,
   "metadata": {},
   "outputs": [
    {
     "data": {
      "text/plain": [
       "908                                       wont returning\n",
       "905           Also feel like chips bought not made house\n",
       "982                                         Food average\n",
       "47                         burger good beef cooked right\n",
       "748    watched prices inflate portions get smaller ma...\n",
       "                             ...                        \n",
       "767                                        block amazing\n",
       "72                                           service meh\n",
       "912    felt insulted disrespected could talk judge an...\n",
       "235                       possible give zero stars theyd\n",
       "37     Poor service waiter made feel like stupid ever...\n",
       "Name: cleaned_review, Length: 796, dtype: object"
      ]
     },
     "execution_count": 21,
     "metadata": {},
     "output_type": "execute_result"
    }
   ],
   "source": [
    "x_train"
   ]
  },
  {
   "cell_type": "code",
   "execution_count": 22,
   "metadata": {},
   "outputs": [
    {
     "data": {
      "text/plain": [
       "908    0\n",
       "905    0\n",
       "982    0\n",
       "47     1\n",
       "748    0\n",
       "      ..\n",
       "767    1\n",
       "72     0\n",
       "912    0\n",
       "235    0\n",
       "37     0\n",
       "Name: Liked, Length: 796, dtype: int64"
      ]
     },
     "execution_count": 22,
     "metadata": {},
     "output_type": "execute_result"
    }
   ],
   "source": [
    "y_train"
   ]
  },
  {
   "cell_type": "code",
   "execution_count": 23,
   "metadata": {},
   "outputs": [
    {
     "data": {
      "text/plain": [
       "358                              Best fish Ive ever life\n",
       "607                                         wanted leave\n",
       "809    first time ever came amazing experience still ...\n",
       "920            Needless say wont going back anytime soon\n",
       "242             time side restaurant almost empty excuse\n",
       "                             ...                        \n",
       "429        nicest restaurant owners Ive ever come across\n",
       "891              rotating beers tap also highlight place\n",
       "577                          Service good company better\n",
       "654                            patio seating comfortable\n",
       "207                                WORST EXPERIENCE EVER\n",
       "Name: cleaned_review, Length: 200, dtype: object"
      ]
     },
     "execution_count": 23,
     "metadata": {},
     "output_type": "execute_result"
    }
   ],
   "source": [
    "x_test"
   ]
  },
  {
   "cell_type": "code",
   "execution_count": 24,
   "metadata": {},
   "outputs": [
    {
     "data": {
      "text/plain": [
       "358    1\n",
       "607    0\n",
       "809    1\n",
       "920    0\n",
       "242    0\n",
       "      ..\n",
       "429    1\n",
       "891    1\n",
       "577    1\n",
       "654    1\n",
       "207    0\n",
       "Name: Liked, Length: 200, dtype: int64"
      ]
     },
     "execution_count": 24,
     "metadata": {},
     "output_type": "execute_result"
    }
   ],
   "source": [
    "y_test"
   ]
  },
  {
   "cell_type": "markdown",
   "metadata": {},
   "source": [
    "## Vectorization"
   ]
  },
  {
   "cell_type": "markdown",
   "metadata": {},
   "source": [
    "### 1. Bag - of - Words "
   ]
  },
  {
   "cell_type": "markdown",
   "metadata": {},
   "source": [
    "- Currently, we have the messages as lists of tokens (also known as lemmas) and now we need to convert each of those messages into a vector the SciKit Learn's algorithm models can work with.\n",
    "\n",
    "- Now we'll convert each message, represented as a list of tokens (lemmas) above, into a vector that machine learning models can understand.\n",
    "\n",
    "- We'll do that in three steps using the bag-of-words model:\n",
    "    1. Count how many times does a word occur in each message (Known as term frequency)\n",
    "    2. Weigh the counts, so that frequent tokens get lower weight (inverse document frequency)\n",
    "    3. Normalize the vectors to unit length, to abstract from the original text length (L2 norm)\n"
   ]
  },
  {
   "cell_type": "code",
   "execution_count": 25,
   "metadata": {},
   "outputs": [
    {
     "data": {
      "text/plain": [
       "<796x820 sparse matrix of type '<class 'numpy.int64'>'\n",
       "\twith 3787 stored elements in Compressed Sparse Row format>"
      ]
     },
     "execution_count": 25,
     "metadata": {},
     "output_type": "execute_result"
    }
   ],
   "source": [
    "# Instantiate the vectorizer\n",
    "cv = CountVectorizer(stop_words = STOPWORDS, ngram_range = (1, 3), max_df = 0.5, min_df = 2)\n",
    "\n",
    "# Learn the training data vocabulary, then use it to create a document-term matrix\n",
    "bow_train = cv.fit_transform(x_train)\n",
    "bow_train"
   ]
  },
  {
   "cell_type": "code",
   "execution_count": 26,
   "metadata": {},
   "outputs": [
    {
     "name": "stdout",
     "output_type": "stream",
     "text": [
      "Shape of Sparse Matrix:  (796, 820)\n",
      "Amount of Non-Zero occurences:  3787\n"
     ]
    }
   ],
   "source": [
    "print('Shape of Sparse Matrix: ', bow_train.shape)\n",
    "print('Amount of Non-Zero occurences: ', bow_train.nnz)"
   ]
  },
  {
   "cell_type": "code",
   "execution_count": 27,
   "metadata": {},
   "outputs": [
    {
     "data": {
      "text/plain": [
       "<200x820 sparse matrix of type '<class 'numpy.int64'>'\n",
       "\twith 811 stored elements in Compressed Sparse Row format>"
      ]
     },
     "execution_count": 27,
     "metadata": {},
     "output_type": "execute_result"
    }
   ],
   "source": [
    "# Transform test data (using fitted vocabulary) into a document-term matrix\n",
    "bow_test = cv.transform(x_test)\n",
    "bow_test"
   ]
  },
  {
   "cell_type": "code",
   "execution_count": 28,
   "metadata": {},
   "outputs": [
    {
     "name": "stdout",
     "output_type": "stream",
     "text": [
      "Shape of Sparse Matrix:  (200, 820)\n",
      "Amount of Non-Zero occurences:  811\n"
     ]
    }
   ],
   "source": [
    "print('Shape of Sparse Matrix: ', bow_test.shape)\n",
    "print('Amount of Non-Zero occurences: ', bow_test.nnz)"
   ]
  },
  {
   "cell_type": "markdown",
   "metadata": {},
   "source": [
    "### 2. TF-IDF"
   ]
  },
  {
   "cell_type": "markdown",
   "metadata": {},
   "source": [
    "- TF-IDF stands for term frequency-inverse document frequency, and the tf-idf weight is a weight often used in information retrieval and text mining. \n",
    "- This weight is a statistical measure used to evaluate how important a word is to a document in a collection or corpus. \n",
    "- The importance increases proportionally to the number of times a word appears in the document but is offset by the frequency of the word in the corpus. \n",
    "- Variations of the tf-idf weighting scheme are often used by search engines as a central tool in scoring and ranking a document's relevance given a user query."
   ]
  },
  {
   "cell_type": "code",
   "execution_count": 29,
   "metadata": {},
   "outputs": [
    {
     "data": {
      "text/plain": [
       "<796x820 sparse matrix of type '<class 'numpy.float64'>'\n",
       "\twith 3787 stored elements in Compressed Sparse Row format>"
      ]
     },
     "execution_count": 29,
     "metadata": {},
     "output_type": "execute_result"
    }
   ],
   "source": [
    "# Instantiate the vectorizer\n",
    "tv = TfidfTransformer()\n",
    "\n",
    "# Learn the training data vocabulary, then use it to create a document-term matrix\n",
    "tfidf_train = tv.fit_transform(bow_train)\n",
    "tfidf_train"
   ]
  },
  {
   "cell_type": "code",
   "execution_count": 30,
   "metadata": {},
   "outputs": [
    {
     "name": "stdout",
     "output_type": "stream",
     "text": [
      "Shape of Sparse Matrix:  (796, 820)\n",
      "Amount of Non-Zero occurences:  3787\n"
     ]
    }
   ],
   "source": [
    "print('Shape of Sparse Matrix: ', tfidf_train.shape)\n",
    "print('Amount of Non-Zero occurences: ', tfidf_train.nnz)"
   ]
  },
  {
   "cell_type": "code",
   "execution_count": 31,
   "metadata": {},
   "outputs": [
    {
     "data": {
      "text/plain": [
       "<200x820 sparse matrix of type '<class 'numpy.float64'>'\n",
       "\twith 811 stored elements in Compressed Sparse Row format>"
      ]
     },
     "execution_count": 31,
     "metadata": {},
     "output_type": "execute_result"
    }
   ],
   "source": [
    "# Transform test data (using fitted vocabulary) into a document-term matrix\n",
    "tfidf_test = tv.transform(bow_test)\n",
    "tfidf_test"
   ]
  },
  {
   "cell_type": "code",
   "execution_count": 32,
   "metadata": {},
   "outputs": [
    {
     "name": "stdout",
     "output_type": "stream",
     "text": [
      "Shape of Sparse Matrix:  (200, 820)\n",
      "Amount of Non-Zero occurences:  811\n"
     ]
    }
   ],
   "source": [
    "print('Shape of Sparse Matrix: ', tfidf_test.shape)\n",
    "print('Amount of Non-Zero occurences: ', tfidf_test.nnz)"
   ]
  },
  {
   "cell_type": "markdown",
   "metadata": {},
   "source": [
    " # 5. Building and evaluating a model"
   ]
  },
  {
   "cell_type": "markdown",
   "metadata": {},
   "source": [
    "### 1. Naive Bayes"
   ]
  },
  {
   "cell_type": "markdown",
   "metadata": {},
   "source": [
    "- The multinomial Naive Bayes classifier is suitable for classification with discrete features (e.g., word counts for text classification). \n",
    "- The multinomial distribution normally requires integer feature counts. However, in practice, fractional counts such as tf-idf may also work.\n",
    "- It is the baseline model for NLP classification process "
   ]
  },
  {
   "cell_type": "markdown",
   "metadata": {},
   "source": [
    "#### Training"
   ]
  },
  {
   "cell_type": "code",
   "execution_count": 33,
   "metadata": {},
   "outputs": [
    {
     "name": "stdout",
     "output_type": "stream",
     "text": [
      "Wall time: 3.98 ms\n"
     ]
    },
    {
     "data": {
      "text/plain": [
       "MultinomialNB()"
      ]
     },
     "execution_count": 33,
     "metadata": {},
     "output_type": "execute_result"
    }
   ],
   "source": [
    "# Instantiate the classifier\n",
    "nb = MultinomialNB()\n",
    "\n",
    "# train the model using tfidf_train (timing it with an IPython \"magic command\")\n",
    "%time nb.fit(tfidf_train, y_train)"
   ]
  },
  {
   "cell_type": "markdown",
   "metadata": {},
   "source": [
    "#### Evaluation"
   ]
  },
  {
   "cell_type": "code",
   "execution_count": 34,
   "metadata": {},
   "outputs": [],
   "source": [
    "# Make class predictions for tfidf_test\n",
    "y_pred_nb = nb.predict(tfidf_test)"
   ]
  },
  {
   "cell_type": "code",
   "execution_count": 35,
   "metadata": {},
   "outputs": [
    {
     "data": {
      "text/plain": [
       "0.71"
      ]
     },
     "execution_count": 35,
     "metadata": {},
     "output_type": "execute_result"
    }
   ],
   "source": [
    "# Calculate accuracy of class predictions\n",
    "metrics.accuracy_score(y_test, y_pred_nb)"
   ]
  },
  {
   "cell_type": "code",
   "execution_count": 36,
   "metadata": {},
   "outputs": [
    {
     "data": {
      "text/plain": [
       "array([[78, 37],\n",
       "       [21, 64]], dtype=int64)"
      ]
     },
     "execution_count": 36,
     "metadata": {},
     "output_type": "execute_result"
    }
   ],
   "source": [
    "# Print the confusion matrix\n",
    "metrics.confusion_matrix(y_test, y_pred_nb)"
   ]
  },
  {
   "cell_type": "markdown",
   "metadata": {},
   "source": [
    "**Observations:**\n",
    "- In the above \"Evaluation\", we evaluated accuracy on on test data whcih is representative of true predictive performance.\n",
    "- We get the accuracy of about 71% on unseen data."
   ]
  },
  {
   "cell_type": "code",
   "execution_count": 37,
   "metadata": {},
   "outputs": [
    {
     "data": {
      "text/plain": [
       "242             time side restaurant almost empty excuse\n",
       "862    Hot dishes not hot cold dishes close room temp...\n",
       "6                             Honeslty didnt taste fresh\n",
       "495                                       tragedy struck\n",
       "954                         fries not hot neither burger\n",
       "784                      chains Im fan beat place easily\n",
       "94                                  say bye bye tip lady\n",
       "41         not deal good enough would drag establishment\n",
       "422    Furthermore cant even find hours operation web...\n",
       "148                                        give 2 thumbs\n",
       "238      not rolled eyes may stayed Not sure go back try\n",
       "731    Ryans Bar definitely one Edinburgh establishme...\n",
       "754    Main thing didnt enjoy crowd older crowd aroun...\n",
       "951    tables outside also dirty lot time workers not...\n",
       "936           sangria half glass wine full 12 ridiculous\n",
       "970    immediately said wanted talk manager not want ...\n",
       "589                                 kids play area NASTY\n",
       "705    work hospitality industry Paradise Valley refr...\n",
       "523                                first time might last\n",
       "236    descriptions said yum yum sauce another said e...\n",
       "455    chicken wings contained driest chicken meat ev...\n",
       "791                                     food arrives meh\n",
       "194    Im not really sure Joeys voted best hot dog Va...\n",
       "2                                Not tasty texture nasty\n",
       "554    However recent experience particular location ...\n",
       "56     Heart Attack Grill downtown Vegas absolutely f...\n",
       "228                                mains also uninspired\n",
       "159    Unfortunately must hit bakery leftover day eve...\n",
       "125                  Host staff lack better word BITCHES\n",
       "202                                 warm beer didnt help\n",
       "581                                                rated\n",
       "186           food sucked expected sucked could imagined\n",
       "820                             definitely would not eat\n",
       "216                                       Soggy not good\n",
       "711                                            Not thing\n",
       "507                               gyro basically lettuce\n",
       "516                                            drive get\n",
       "Name: cleaned_review, dtype: object"
      ]
     },
     "execution_count": 37,
     "metadata": {},
     "output_type": "execute_result"
    }
   ],
   "source": [
    "# Print message text for false positives (Negative reviews incorrectly classifier)\n",
    "x_test[(y_pred_nb == 1) & (y_test == 0)]\n",
    "# x_test[y_pred_nb > y_test]"
   ]
  },
  {
   "cell_type": "code",
   "execution_count": 38,
   "metadata": {},
   "outputs": [
    {
     "data": {
      "text/plain": [
       "358                              Best fish Ive ever life\n",
       "404    Today first taste Buldogis Gourmet Hot Dog tel...\n",
       "104                                   one better buffets\n",
       "512                            far BEST cheesecurds ever\n",
       "108                                    go back next trip\n",
       "493                             CONCLUSION filling meals\n",
       "718                                      one bite hooked\n",
       "101    good thing waiter helpful kept bloddy marys co...\n",
       "34                                Overall like place lot\n",
       "604                          Couldnt ask satisfying meal\n",
       "799                     get inside youll impressed place\n",
       "527    sure order dessert even need pack togo tiramis...\n",
       "395    summarize food incredible nay transcendant not...\n",
       "739                              Never anything complain\n",
       "745    warm feeling service felt like guest special t...\n",
       "258                                            know make\n",
       "248                        lighting dark enough set mood\n",
       "857    may say buffet pricey think get pay place gett...\n",
       "574              server super nice checked us many times\n",
       "733                            Overall like food service\n",
       "429        nicest restaurant owners Ive ever come across\n",
       "Name: cleaned_review, dtype: object"
      ]
     },
     "execution_count": 38,
     "metadata": {},
     "output_type": "execute_result"
    }
   ],
   "source": [
    "# Print message text for false negatives (Positive Reviews incorrectly classifier)\n",
    "x_test[(y_pred_nb == 0) & (y_test == 1)]\n",
    "# x_test[y_pred_nb < y_test]"
   ]
  },
  {
   "cell_type": "code",
   "execution_count": 39,
   "metadata": {},
   "outputs": [
    {
     "data": {
      "text/plain": [
       "0.7156010230179028"
      ]
     },
     "execution_count": 39,
     "metadata": {},
     "output_type": "execute_result"
    }
   ],
   "source": [
    "# Calculate AUC\n",
    "metrics.roc_auc_score(y_test, y_pred_nb)"
   ]
  },
  {
   "cell_type": "markdown",
   "metadata": {},
   "source": [
    "**Observations:**\n",
    "- In the above \"Evaluation\", we evaluated accuracy on on test data whcih is representative of true predictive performance.\n",
    "- We get the accuracy of about 97.04% on unseen data by using Multinomial Naive Bayes."
   ]
  },
  {
   "cell_type": "markdown",
   "metadata": {},
   "source": [
    "### 2. Logistic Regression"
   ]
  },
  {
   "cell_type": "markdown",
   "metadata": {},
   "source": [
    "- Logistic regression, despite its name, is a linear model for classification rather than regression. Logistic regression is also known in the literature as logit regression, maximum-entropy classification (MaxEnt) or the log-linear classifier. \n",
    "- In this model, the probabilities describing the possible outcomes of a single trial are modeled using a logistic function."
   ]
  },
  {
   "cell_type": "markdown",
   "metadata": {},
   "source": [
    "#### Training"
   ]
  },
  {
   "cell_type": "code",
   "execution_count": 40,
   "metadata": {},
   "outputs": [
    {
     "name": "stdout",
     "output_type": "stream",
     "text": [
      "Wall time: 387 ms\n"
     ]
    },
    {
     "data": {
      "text/plain": [
       "LogisticRegression(solver='liblinear')"
      ]
     },
     "execution_count": 40,
     "metadata": {},
     "output_type": "execute_result"
    }
   ],
   "source": [
    "# Instantiate the classifier\n",
    "log_reg = LogisticRegression(solver = 'liblinear')\n",
    "\n",
    "# train the model using tfidf_train (timing it with an IPython \"magic command\")\n",
    "%time log_reg.fit(tfidf_train, y_train)"
   ]
  },
  {
   "cell_type": "markdown",
   "metadata": {},
   "source": [
    "#### Evaluation"
   ]
  },
  {
   "cell_type": "code",
   "execution_count": 41,
   "metadata": {},
   "outputs": [],
   "source": [
    "# Make class predictions for tfidf_test\n",
    "y_pred_lr = log_reg.predict(tfidf_test)"
   ]
  },
  {
   "cell_type": "code",
   "execution_count": 42,
   "metadata": {},
   "outputs": [
    {
     "data": {
      "text/plain": [
       "0.725"
      ]
     },
     "execution_count": 42,
     "metadata": {},
     "output_type": "execute_result"
    }
   ],
   "source": [
    "# Calculate accuracy of class predictions\n",
    "metrics.accuracy_score(y_test, y_pred_lr)"
   ]
  },
  {
   "cell_type": "code",
   "execution_count": 43,
   "metadata": {},
   "outputs": [
    {
     "data": {
      "text/plain": [
       "array([[85, 30],\n",
       "       [25, 60]], dtype=int64)"
      ]
     },
     "execution_count": 43,
     "metadata": {},
     "output_type": "execute_result"
    }
   ],
   "source": [
    "# Print the confusion matrix\n",
    "metrics.confusion_matrix(y_test, y_pred_lr)"
   ]
  },
  {
   "cell_type": "code",
   "execution_count": 44,
   "metadata": {},
   "outputs": [
    {
     "data": {
      "text/plain": [
       "242             time side restaurant almost empty excuse\n",
       "6                             Honeslty didnt taste fresh\n",
       "954                         fries not hot neither burger\n",
       "784                      chains Im fan beat place easily\n",
       "41         not deal good enough would drag establishment\n",
       "422    Furthermore cant even find hours operation web...\n",
       "148                                        give 2 thumbs\n",
       "238      not rolled eyes may stayed Not sure go back try\n",
       "731    Ryans Bar definitely one Edinburgh establishme...\n",
       "960    Insults profound deuchebaggery go outside smok...\n",
       "754    Main thing didnt enjoy crowd older crowd aroun...\n",
       "951    tables outside also dirty lot time workers not...\n",
       "599                                       Not good money\n",
       "636                              Tried go lunch madhouse\n",
       "970    immediately said wanted talk manager not want ...\n",
       "523                                first time might last\n",
       "236    descriptions said yum yum sauce another said e...\n",
       "455    chicken wings contained driest chicken meat ev...\n",
       "791                                     food arrives meh\n",
       "194    Im not really sure Joeys voted best hot dog Va...\n",
       "2                                Not tasty texture nasty\n",
       "554    However recent experience particular location ...\n",
       "56     Heart Attack Grill downtown Vegas absolutely f...\n",
       "228                                mains also uninspired\n",
       "125                  Host staff lack better word BITCHES\n",
       "202                                 warm beer didnt help\n",
       "186           food sucked expected sucked could imagined\n",
       "216                                       Soggy not good\n",
       "711                                            Not thing\n",
       "516                                            drive get\n",
       "Name: cleaned_review, dtype: object"
      ]
     },
     "execution_count": 44,
     "metadata": {},
     "output_type": "execute_result"
    }
   ],
   "source": [
    "# print message text for false positives (Positive reviews incorrectly classifier)\n",
    "x_test[(y_pred_lr == 1) & (y_test==0)]\n",
    "# x_test[y_pred_nb > y_test]"
   ]
  },
  {
   "cell_type": "code",
   "execution_count": 45,
   "metadata": {},
   "outputs": [
    {
     "data": {
      "text/plain": [
       "358                              Best fish Ive ever life\n",
       "404    Today first taste Buldogis Gourmet Hot Dog tel...\n",
       "104                                   one better buffets\n",
       "512                            far BEST cheesecurds ever\n",
       "108                                    go back next trip\n",
       "493                             CONCLUSION filling meals\n",
       "718                                      one bite hooked\n",
       "101    good thing waiter helpful kept bloddy marys co...\n",
       "34                                Overall like place lot\n",
       "604                          Couldnt ask satisfying meal\n",
       "661                         convenient since staying MGM\n",
       "799                     get inside youll impressed place\n",
       "527    sure order dessert even need pack togo tiramis...\n",
       "395    summarize food incredible nay transcendant not...\n",
       "667    chef generous time even came around twice take...\n",
       "255                          7 table service pretty fast\n",
       "739                              Never anything complain\n",
       "745    warm feeling service felt like guest special t...\n",
       "258                                            know make\n",
       "815                                   say desserts yummy\n",
       "248                        lighting dark enough set mood\n",
       "857    may say buffet pricey think get pay place gett...\n",
       "437                    like Steiners dark feels like bar\n",
       "733                            Overall like food service\n",
       "429        nicest restaurant owners Ive ever come across\n",
       "Name: cleaned_review, dtype: object"
      ]
     },
     "execution_count": 45,
     "metadata": {},
     "output_type": "execute_result"
    }
   ],
   "source": [
    "# print message text for false negatives (Negative reviews incorrectly classifier)\n",
    "x_test[(y_pred_lr == 0) & (y_test == 1)]\n",
    "# x_test[y_pred_lr < y_test]"
   ]
  },
  {
   "cell_type": "markdown",
   "metadata": {},
   "source": [
    "**Observations:**\n",
    "- In the above \"Evaluation\", we evaluated accuracy on on test data whcih is representative of true predictive performance.\n",
    "- We get the accuracy of about 72.50% on unseen data by using Logistic Regression. Slight improvement in the accuracy has observed."
   ]
  },
  {
   "cell_type": "markdown",
   "metadata": {},
   "source": [
    "### 3. SVM"
   ]
  },
  {
   "cell_type": "markdown",
   "metadata": {},
   "source": [
    "#### Training"
   ]
  },
  {
   "cell_type": "code",
   "execution_count": 46,
   "metadata": {},
   "outputs": [
    {
     "name": "stdout",
     "output_type": "stream",
     "text": [
      "Wall time: 196 ms\n"
     ]
    },
    {
     "data": {
      "text/plain": [
       "SVC()"
      ]
     },
     "execution_count": 46,
     "metadata": {},
     "output_type": "execute_result"
    }
   ],
   "source": [
    "# Instantiate the classifier\n",
    "svms = SVC()\n",
    "\n",
    "# train the model using tfidf_train (timing it with an IPython \"magic command\")\n",
    "%time svms.fit(tfidf_train, y_train)"
   ]
  },
  {
   "cell_type": "markdown",
   "metadata": {},
   "source": [
    "#### Evaluation"
   ]
  },
  {
   "cell_type": "code",
   "execution_count": 47,
   "metadata": {},
   "outputs": [],
   "source": [
    "# Make class predictions for tfidf_test\n",
    "y_pred_svm = svms.predict(tfidf_test)"
   ]
  },
  {
   "cell_type": "code",
   "execution_count": 48,
   "metadata": {},
   "outputs": [
    {
     "data": {
      "text/plain": [
       "0.715"
      ]
     },
     "execution_count": 48,
     "metadata": {},
     "output_type": "execute_result"
    }
   ],
   "source": [
    "# Calculate accuracy of class predictions\n",
    "metrics.accuracy_score(y_test, y_pred_svm)"
   ]
  },
  {
   "cell_type": "code",
   "execution_count": 49,
   "metadata": {},
   "outputs": [
    {
     "data": {
      "text/plain": [
       "array([[84, 31],\n",
       "       [26, 59]], dtype=int64)"
      ]
     },
     "execution_count": 49,
     "metadata": {},
     "output_type": "execute_result"
    }
   ],
   "source": [
    "# Print the confusion matrix\n",
    "metrics.confusion_matrix(y_test, y_pred_svm)"
   ]
  },
  {
   "cell_type": "code",
   "execution_count": 50,
   "metadata": {},
   "outputs": [
    {
     "data": {
      "text/plain": [
       "607                                         wanted leave\n",
       "242             time side restaurant almost empty excuse\n",
       "862    Hot dishes not hot cold dishes close room temp...\n",
       "6                             Honeslty didnt taste fresh\n",
       "954                         fries not hot neither burger\n",
       "784                      chains Im fan beat place easily\n",
       "41         not deal good enough would drag establishment\n",
       "422    Furthermore cant even find hours operation web...\n",
       "148                                        give 2 thumbs\n",
       "238      not rolled eyes may stayed Not sure go back try\n",
       "731    Ryans Bar definitely one Edinburgh establishme...\n",
       "960    Insults profound deuchebaggery go outside smok...\n",
       "754    Main thing didnt enjoy crowd older crowd aroun...\n",
       "951    tables outside also dirty lot time workers not...\n",
       "599                                       Not good money\n",
       "636                              Tried go lunch madhouse\n",
       "970    immediately said wanted talk manager not want ...\n",
       "523                                first time might last\n",
       "236    descriptions said yum yum sauce another said e...\n",
       "455    chicken wings contained driest chicken meat ev...\n",
       "791                                     food arrives meh\n",
       "194    Im not really sure Joeys voted best hot dog Va...\n",
       "2                                Not tasty texture nasty\n",
       "554    However recent experience particular location ...\n",
       "56     Heart Attack Grill downtown Vegas absolutely f...\n",
       "228                                mains also uninspired\n",
       "125                  Host staff lack better word BITCHES\n",
       "186           food sucked expected sucked could imagined\n",
       "216                                       Soggy not good\n",
       "711                                            Not thing\n",
       "516                                            drive get\n",
       "Name: cleaned_review, dtype: object"
      ]
     },
     "execution_count": 50,
     "metadata": {},
     "output_type": "execute_result"
    }
   ],
   "source": [
    "# print message text for false positives (Positive reviews incorrectly classifier)\n",
    "x_test[(y_pred_svm == 1) & (y_test==0)]\n",
    "# x_test[y_pred_svm > y_test]"
   ]
  },
  {
   "cell_type": "code",
   "execution_count": 51,
   "metadata": {},
   "outputs": [
    {
     "data": {
      "text/plain": [
       "358                              Best fish Ive ever life\n",
       "404    Today first taste Buldogis Gourmet Hot Dog tel...\n",
       "104                                   one better buffets\n",
       "512                            far BEST cheesecurds ever\n",
       "108                                    go back next trip\n",
       "493                             CONCLUSION filling meals\n",
       "101    good thing waiter helpful kept bloddy marys co...\n",
       "34                                Overall like place lot\n",
       "604                          Couldnt ask satisfying meal\n",
       "35              redeeming quality restaurant inexpensive\n",
       "799                     get inside youll impressed place\n",
       "527    sure order dessert even need pack togo tiramis...\n",
       "241                                dish quite flavourful\n",
       "395    summarize food incredible nay transcendant not...\n",
       "255                          7 table service pretty fast\n",
       "739                              Never anything complain\n",
       "745    warm feeling service felt like guest special t...\n",
       "258                                            know make\n",
       "815                                   say desserts yummy\n",
       "248                        lighting dark enough set mood\n",
       "857    may say buffet pricey think get pay place gett...\n",
       "437                    like Steiners dark feels like bar\n",
       "372    dining space tiny elegantly decorated comfortable\n",
       "574              server super nice checked us many times\n",
       "733                            Overall like food service\n",
       "429        nicest restaurant owners Ive ever come across\n",
       "Name: cleaned_review, dtype: object"
      ]
     },
     "execution_count": 51,
     "metadata": {},
     "output_type": "execute_result"
    }
   ],
   "source": [
    "# print message text for false negatives (Negative reviews incorrectly classifier)\n",
    "x_test[(y_pred_svm == 0) & (y_test == 1)]\n",
    "# x_test[y_pred_svm < y_test]"
   ]
  },
  {
   "cell_type": "markdown",
   "metadata": {},
   "source": [
    "**Observations:**\n",
    "- In the above \"Evaluation\", we evaluated accuracy on on test data whcih is representative of true predictive performance.\n",
    "- We get the accuracy of about 71.50% on unseen data by using Support Vector Machines."
   ]
  },
  {
   "cell_type": "markdown",
   "metadata": {},
   "source": [
    "### 4. Random Forest Classifier"
   ]
  },
  {
   "cell_type": "markdown",
   "metadata": {},
   "source": [
    "#### Training"
   ]
  },
  {
   "cell_type": "code",
   "execution_count": 52,
   "metadata": {},
   "outputs": [
    {
     "name": "stdout",
     "output_type": "stream",
     "text": [
      "Wall time: 327 ms\n"
     ]
    },
    {
     "data": {
      "text/plain": [
       "RandomForestClassifier()"
      ]
     },
     "execution_count": 52,
     "metadata": {},
     "output_type": "execute_result"
    }
   ],
   "source": [
    "# Instantiate the classifier\n",
    "rf = RandomForestClassifier()\n",
    "\n",
    "# train the model using tfidf_train (timing it with an IPython \"magic command\")\n",
    "%time rf.fit(tfidf_train, y_train)"
   ]
  },
  {
   "cell_type": "markdown",
   "metadata": {},
   "source": [
    "#### Evaluation"
   ]
  },
  {
   "cell_type": "code",
   "execution_count": 53,
   "metadata": {},
   "outputs": [],
   "source": [
    "# Make class predictions for tfidf_test\n",
    "y_pred_rf = rf.predict(tfidf_test)"
   ]
  },
  {
   "cell_type": "code",
   "execution_count": 54,
   "metadata": {},
   "outputs": [
    {
     "data": {
      "text/plain": [
       "0.735"
      ]
     },
     "execution_count": 54,
     "metadata": {},
     "output_type": "execute_result"
    }
   ],
   "source": [
    "# Calculate accuracy of class predictions\n",
    "metrics.accuracy_score(y_test, y_pred_rf)"
   ]
  },
  {
   "cell_type": "code",
   "execution_count": 55,
   "metadata": {},
   "outputs": [
    {
     "data": {
      "text/plain": [
       "array([[92, 23],\n",
       "       [30, 55]], dtype=int64)"
      ]
     },
     "execution_count": 55,
     "metadata": {},
     "output_type": "execute_result"
    }
   ],
   "source": [
    "# Print the confusion matrix\n",
    "metrics.confusion_matrix(y_test, y_pred_rf)"
   ]
  },
  {
   "cell_type": "code",
   "execution_count": 56,
   "metadata": {},
   "outputs": [
    {
     "data": {
      "text/plain": [
       "242             time side restaurant almost empty excuse\n",
       "6                             Honeslty didnt taste fresh\n",
       "954                         fries not hot neither burger\n",
       "784                      chains Im fan beat place easily\n",
       "41         not deal good enough would drag establishment\n",
       "148                                        give 2 thumbs\n",
       "238      not rolled eyes may stayed Not sure go back try\n",
       "960    Insults profound deuchebaggery go outside smok...\n",
       "754    Main thing didnt enjoy crowd older crowd aroun...\n",
       "951    tables outside also dirty lot time workers not...\n",
       "636                              Tried go lunch madhouse\n",
       "523                                first time might last\n",
       "791                                     food arrives meh\n",
       "194    Im not really sure Joeys voted best hot dog Va...\n",
       "2                                Not tasty texture nasty\n",
       "554    However recent experience particular location ...\n",
       "56     Heart Attack Grill downtown Vegas absolutely f...\n",
       "228                                mains also uninspired\n",
       "927               also took forever bring us check asked\n",
       "820                             definitely would not eat\n",
       "967                                         Hell go back\n",
       "216                                       Soggy not good\n",
       "516                                            drive get\n",
       "Name: cleaned_review, dtype: object"
      ]
     },
     "execution_count": 56,
     "metadata": {},
     "output_type": "execute_result"
    }
   ],
   "source": [
    "# print message text for false positives (Positive reviews incorrectly classifier)\n",
    "x_test[(y_pred_rf == 1) & (y_test==0)]\n",
    "# x_test[y_pred_rf > y_test]"
   ]
  },
  {
   "cell_type": "code",
   "execution_count": 57,
   "metadata": {},
   "outputs": [
    {
     "data": {
      "text/plain": [
       "358                              Best fish Ive ever life\n",
       "404    Today first taste Buldogis Gourmet Hot Dog tel...\n",
       "49     side Greek salad Greek dressing tasty pita hum...\n",
       "104                                   one better buffets\n",
       "780                          pretty satifying experience\n",
       "108                                    go back next trip\n",
       "493                             CONCLUSION filling meals\n",
       "34                                Overall like place lot\n",
       "604                          Couldnt ask satisfying meal\n",
       "661                         convenient since staying MGM\n",
       "799                     get inside youll impressed place\n",
       "527    sure order dessert even need pack togo tiramis...\n",
       "241                                dish quite flavourful\n",
       "395    summarize food incredible nay transcendant not...\n",
       "667    chef generous time even came around twice take...\n",
       "255                          7 table service pretty fast\n",
       "739                              Never anything complain\n",
       "745    warm feeling service felt like guest special t...\n",
       "258                                            know make\n",
       "823                            crêpe delicate thin moist\n",
       "815                                   say desserts yummy\n",
       "248                        lighting dark enough set mood\n",
       "857    may say buffet pricey think get pay place gett...\n",
       "437                    like Steiners dark feels like bar\n",
       "372    dining space tiny elegantly decorated comfortable\n",
       "597                      Itll regular stop trips Phoenix\n",
       "764                                             Im happy\n",
       "733                            Overall like food service\n",
       "429        nicest restaurant owners Ive ever come across\n",
       "654                            patio seating comfortable\n",
       "Name: cleaned_review, dtype: object"
      ]
     },
     "execution_count": 57,
     "metadata": {},
     "output_type": "execute_result"
    }
   ],
   "source": [
    "# print message text for false negatives (Negative reviews incorrectly classifier)\n",
    "x_test[(y_pred_rf == 0) & (y_test == 1)]\n",
    "# x_test[y_pred_rf < y_test]"
   ]
  },
  {
   "cell_type": "markdown",
   "metadata": {},
   "source": [
    "**Observations:**\n",
    "- In the above \"Evaluation\", we evaluated accuracy on on test data whcih is representative of true predictive performance.\n",
    "- We get the accuracy of about 74.% on unseen data by using Random Forest which is happened to be Best Accuracy till now."
   ]
  },
  {
   "cell_type": "markdown",
   "metadata": {},
   "source": [
    "## 5. LSTMs"
   ]
  },
  {
   "cell_type": "code",
   "execution_count": 58,
   "metadata": {},
   "outputs": [
    {
     "data": {
      "text/html": [
       "<div>\n",
       "<style scoped>\n",
       "    .dataframe tbody tr th:only-of-type {\n",
       "        vertical-align: middle;\n",
       "    }\n",
       "\n",
       "    .dataframe tbody tr th {\n",
       "        vertical-align: top;\n",
       "    }\n",
       "\n",
       "    .dataframe thead th {\n",
       "        text-align: right;\n",
       "    }\n",
       "</style>\n",
       "<table border=\"1\" class=\"dataframe\">\n",
       "  <thead>\n",
       "    <tr style=\"text-align: right;\">\n",
       "      <th></th>\n",
       "      <th>Review</th>\n",
       "      <th>Liked</th>\n",
       "      <th>review_length</th>\n",
       "      <th>cleaned_review</th>\n",
       "    </tr>\n",
       "  </thead>\n",
       "  <tbody>\n",
       "    <tr>\n",
       "      <th>0</th>\n",
       "      <td>Wow... Loved this place.</td>\n",
       "      <td>1</td>\n",
       "      <td>24</td>\n",
       "      <td>Wow Loved place</td>\n",
       "    </tr>\n",
       "    <tr>\n",
       "      <th>1</th>\n",
       "      <td>Crust is not good.</td>\n",
       "      <td>0</td>\n",
       "      <td>18</td>\n",
       "      <td>Crust not good</td>\n",
       "    </tr>\n",
       "    <tr>\n",
       "      <th>2</th>\n",
       "      <td>Not tasty and the texture was just nasty.</td>\n",
       "      <td>0</td>\n",
       "      <td>41</td>\n",
       "      <td>Not tasty texture nasty</td>\n",
       "    </tr>\n",
       "    <tr>\n",
       "      <th>3</th>\n",
       "      <td>Stopped by during the late May bank holiday of...</td>\n",
       "      <td>1</td>\n",
       "      <td>87</td>\n",
       "      <td>Stopped late May bank holiday Rick Steve recom...</td>\n",
       "    </tr>\n",
       "    <tr>\n",
       "      <th>4</th>\n",
       "      <td>The selection on the menu was great and so wer...</td>\n",
       "      <td>1</td>\n",
       "      <td>59</td>\n",
       "      <td>selection menu great prices</td>\n",
       "    </tr>\n",
       "  </tbody>\n",
       "</table>\n",
       "</div>"
      ],
      "text/plain": [
       "                                              Review  Liked  review_length  \\\n",
       "0                           Wow... Loved this place.      1             24   \n",
       "1                                 Crust is not good.      0             18   \n",
       "2          Not tasty and the texture was just nasty.      0             41   \n",
       "3  Stopped by during the late May bank holiday of...      1             87   \n",
       "4  The selection on the menu was great and so wer...      1             59   \n",
       "\n",
       "                                      cleaned_review  \n",
       "0                                    Wow Loved place  \n",
       "1                                     Crust not good  \n",
       "2                            Not tasty texture nasty  \n",
       "3  Stopped late May bank holiday Rick Steve recom...  \n",
       "4                        selection menu great prices  "
      ]
     },
     "execution_count": 58,
     "metadata": {},
     "output_type": "execute_result"
    }
   ],
   "source": [
    "reviews_data.head()"
   ]
  },
  {
   "cell_type": "markdown",
   "metadata": {},
   "source": [
    "#### Train-Test Splitting for applying LSTMs."
   ]
  },
  {
   "cell_type": "code",
   "execution_count": 59,
   "metadata": {},
   "outputs": [
    {
     "name": "stdout",
     "output_type": "stream",
     "text": [
      "(996,)\n",
      "(996,)\n"
     ]
    }
   ],
   "source": [
    "x = reviews_data.Review\n",
    "y = reviews_data.Liked\n",
    "print(x.shape)\n",
    "print(y.shape)"
   ]
  },
  {
   "cell_type": "code",
   "execution_count": 60,
   "metadata": {},
   "outputs": [
    {
     "name": "stdout",
     "output_type": "stream",
     "text": [
      "(796,)\n",
      "(200,)\n",
      "(796,)\n",
      "(200,)\n"
     ]
    }
   ],
   "source": [
    "# split X and y into training and testing sets \n",
    "\n",
    "x_train, x_test, y_train, y_test = train_test_split (x, y, random_state = 1, test_size = 0.2)\n",
    "\n",
    "print(x_train.shape)\n",
    "print(x_test.shape)\n",
    "print(y_train.shape)\n",
    "print(y_test.shape)"
   ]
  },
  {
   "cell_type": "code",
   "execution_count": 61,
   "metadata": {},
   "outputs": [
    {
     "data": {
      "text/plain": [
       "908                               We won't be returning.\n",
       "905    Also, I feel like the chips are bought, not ma...\n",
       "982                              Food was below average.\n",
       "47           The burger is good beef, cooked just right.\n",
       "748    I have watched their prices inflate, portions ...\n",
       "                             ...                        \n",
       "767                               The block was amazing.\n",
       "72                                  The service was meh.\n",
       "912    i felt insulted and disrespected, how could yo...\n",
       "235    If it were possible to give them zero stars, t...\n",
       "37     Poor service, the waiter made me feel like I w...\n",
       "Name: Review, Length: 796, dtype: object"
      ]
     },
     "execution_count": 61,
     "metadata": {},
     "output_type": "execute_result"
    }
   ],
   "source": [
    "x_train"
   ]
  },
  {
   "cell_type": "code",
   "execution_count": 62,
   "metadata": {},
   "outputs": [
    {
     "data": {
      "text/plain": [
       "358                  Best fish I've ever had in my life!\n",
       "607                              I just wanted to leave.\n",
       "809    The first time I ever came here I had an amazi...\n",
       "920    Needless to say, I won't be going back anytime...\n",
       "242    By this time our side of the restaurant was al...\n",
       "                             ...                        \n",
       "429    These are the nicest restaurant owners I've ev...\n",
       "891    Their rotating beers on tap is also a highligh...\n",
       "577         Service was good and the company was better!\n",
       "654              The patio seating was very comfortable.\n",
       "207                           The WORST EXPERIENCE EVER.\n",
       "Name: Review, Length: 200, dtype: object"
      ]
     },
     "execution_count": 62,
     "metadata": {},
     "output_type": "execute_result"
    }
   ],
   "source": [
    "x_test"
   ]
  },
  {
   "cell_type": "code",
   "execution_count": 63,
   "metadata": {},
   "outputs": [
    {
     "data": {
      "text/plain": [
       "908    0\n",
       "905    0\n",
       "982    0\n",
       "47     1\n",
       "748    0\n",
       "      ..\n",
       "767    1\n",
       "72     0\n",
       "912    0\n",
       "235    0\n",
       "37     0\n",
       "Name: Liked, Length: 796, dtype: int64"
      ]
     },
     "execution_count": 63,
     "metadata": {},
     "output_type": "execute_result"
    }
   ],
   "source": [
    "y_train"
   ]
  },
  {
   "cell_type": "code",
   "execution_count": 64,
   "metadata": {},
   "outputs": [
    {
     "data": {
      "text/plain": [
       "358    1\n",
       "607    0\n",
       "809    1\n",
       "920    0\n",
       "242    0\n",
       "      ..\n",
       "429    1\n",
       "891    1\n",
       "577    1\n",
       "654    1\n",
       "207    0\n",
       "Name: Liked, Length: 200, dtype: int64"
      ]
     },
     "execution_count": 64,
     "metadata": {},
     "output_type": "execute_result"
    }
   ],
   "source": [
    "y_test"
   ]
  },
  {
   "cell_type": "markdown",
   "metadata": {},
   "source": [
    "#### Process the data"
   ]
  },
  {
   "cell_type": "markdown",
   "metadata": {},
   "source": [
    "- Tokenize the data and convert the text to sequences.\n",
    "- Add padding to ensure that all the sequences have the same shape.\n",
    "- There are many ways of taking the max_len and here an arbitrary length of 150 is chosen."
   ]
  },
  {
   "cell_type": "code",
   "execution_count": 73,
   "metadata": {},
   "outputs": [],
   "source": [
    "max_words = 500\n",
    "max_len = 150\n",
    "tok = Tokenizer(num_words = max_words)\n",
    "tok.fit_on_texts(x_train)\n",
    "\n",
    "sequences = tok.texts_to_sequences(x_train)\n",
    "sequences_matrix = sequence.pad_sequences(sequences, maxlen = max_len)\n",
    "\n",
    "test_sequences = tok.texts_to_sequences(x_test)\n",
    "test_sequences_matrix = sequence.pad_sequences(test_sequences, maxlen = max_len)"
   ]
  },
  {
   "cell_type": "markdown",
   "metadata": {},
   "source": [
    "#### RNN"
   ]
  },
  {
   "cell_type": "code",
   "execution_count": 74,
   "metadata": {},
   "outputs": [],
   "source": [
    "# Defining the RNN structure.\n",
    "def RNN():\n",
    "    inputs = Input(name = 'inputs', shape = [max_len])\n",
    "    \n",
    "    layer = Embedding(max_words, 50, input_length = max_len)(inputs)\n",
    "    \n",
    "    layer = LSTM(64)(layer)\n",
    "    layer = Dense(256, name = 'FC1')(layer)\n",
    "    layer = Activation('relu')(layer)\n",
    "    \n",
    "    layer = Dropout(0.5)(layer)\n",
    "    layer = Dense(1,name = 'out_layer')(layer)\n",
    "    \n",
    "    layer = Activation('sigmoid')(layer)\n",
    "    \n",
    "    model = Model(inputs = inputs, outputs = layer)\n",
    "    return model"
   ]
  },
  {
   "cell_type": "markdown",
   "metadata": {},
   "source": [
    "#### Training"
   ]
  },
  {
   "cell_type": "code",
   "execution_count": 75,
   "metadata": {},
   "outputs": [
    {
     "name": "stdout",
     "output_type": "stream",
     "text": [
      "Model: \"functional_3\"\n",
      "_________________________________________________________________\n",
      "Layer (type)                 Output Shape              Param #   \n",
      "=================================================================\n",
      "inputs (InputLayer)          [(None, 150)]             0         \n",
      "_________________________________________________________________\n",
      "embedding_1 (Embedding)      (None, 150, 50)           25000     \n",
      "_________________________________________________________________\n",
      "lstm_1 (LSTM)                (None, 64)                29440     \n",
      "_________________________________________________________________\n",
      "FC1 (Dense)                  (None, 256)               16640     \n",
      "_________________________________________________________________\n",
      "activation_2 (Activation)    (None, 256)               0         \n",
      "_________________________________________________________________\n",
      "dropout_1 (Dropout)          (None, 256)               0         \n",
      "_________________________________________________________________\n",
      "out_layer (Dense)            (None, 1)                 257       \n",
      "_________________________________________________________________\n",
      "activation_3 (Activation)    (None, 1)                 0         \n",
      "=================================================================\n",
      "Total params: 71,337\n",
      "Trainable params: 71,337\n",
      "Non-trainable params: 0\n",
      "_________________________________________________________________\n"
     ]
    }
   ],
   "source": [
    "model = RNN()\n",
    "model.compile(loss = 'binary_crossentropy', optimizer = 'adam', metrics = ['accuracy'])\n",
    "model.summary()"
   ]
  },
  {
   "cell_type": "code",
   "execution_count": 76,
   "metadata": {},
   "outputs": [
    {
     "name": "stdout",
     "output_type": "stream",
     "text": [
      "Epoch 1/11\n",
      "5/5 [==============================] - 1s 242ms/step - loss: 0.6929 - accuracy: 0.4937 - val_loss: 0.6923 - val_accuracy: 0.5250\n",
      "Epoch 2/11\n",
      "5/5 [==============================] - 1s 123ms/step - loss: 0.6892 - accuracy: 0.5346 - val_loss: 0.6899 - val_accuracy: 0.5375\n",
      "Epoch 3/11\n",
      "5/5 [==============================] - 1s 124ms/step - loss: 0.6829 - accuracy: 0.5503 - val_loss: 0.6855 - val_accuracy: 0.5375\n",
      "Epoch 4/11\n",
      "5/5 [==============================] - 1s 131ms/step - loss: 0.6686 - accuracy: 0.5975 - val_loss: 0.6766 - val_accuracy: 0.5813\n",
      "Epoch 5/11\n",
      "5/5 [==============================] - 1s 120ms/step - loss: 0.6464 - accuracy: 0.6855 - val_loss: 0.6631 - val_accuracy: 0.5938\n",
      "Epoch 6/11\n",
      "5/5 [==============================] - 1s 119ms/step - loss: 0.6113 - accuracy: 0.7170 - val_loss: 0.6343 - val_accuracy: 0.6562\n",
      "Epoch 7/11\n",
      "5/5 [==============================] - 1s 128ms/step - loss: 0.5476 - accuracy: 0.7594 - val_loss: 0.5804 - val_accuracy: 0.7437\n",
      "Epoch 8/11\n",
      "5/5 [==============================] - 1s 146ms/step - loss: 0.4643 - accuracy: 0.8208 - val_loss: 0.5118 - val_accuracy: 0.7563\n",
      "Epoch 9/11\n",
      "5/5 [==============================] - 1s 156ms/step - loss: 0.3776 - accuracy: 0.8585 - val_loss: 0.4696 - val_accuracy: 0.7812\n",
      "Epoch 10/11\n",
      "5/5 [==============================] - 1s 118ms/step - loss: 0.2927 - accuracy: 0.8931 - val_loss: 0.4402 - val_accuracy: 0.8062\n",
      "Epoch 11/11\n",
      "5/5 [==============================] - 1s 119ms/step - loss: 0.2249 - accuracy: 0.9167 - val_loss: 0.4603 - val_accuracy: 0.8125\n"
     ]
    },
    {
     "data": {
      "text/plain": [
       "<tensorflow.python.keras.callbacks.History at 0x1be0c47d080>"
      ]
     },
     "execution_count": 76,
     "metadata": {},
     "output_type": "execute_result"
    }
   ],
   "source": [
    "model.fit(sequences_matrix, y_train, batch_size = 128, epochs = 11, validation_split = 0.2, workers = -1)"
   ]
  },
  {
   "cell_type": "markdown",
   "metadata": {},
   "source": [
    "#### Evaluation"
   ]
  },
  {
   "cell_type": "code",
   "execution_count": 77,
   "metadata": {},
   "outputs": [
    {
     "name": "stdout",
     "output_type": "stream",
     "text": [
      "7/7 [==============================] - 0s 14ms/step - loss: 0.6502 - accuracy: 0.7200\n"
     ]
    }
   ],
   "source": [
    "accr = model.evaluate(test_sequences_matrix, y_test)"
   ]
  },
  {
   "cell_type": "code",
   "execution_count": 78,
   "metadata": {},
   "outputs": [
    {
     "name": "stdout",
     "output_type": "stream",
     "text": [
      "Test set\n",
      "  Loss: 0.650\n",
      "  Accuracy: 0.720\n"
     ]
    }
   ],
   "source": [
    "print('Test set\\n  Loss: {:0.3f}\\n  Accuracy: {:0.3f}'.format(accr[0],accr[1]))"
   ]
  },
  {
   "cell_type": "markdown",
   "metadata": {},
   "source": [
    "**Observations:**\n",
    "- In the above \"Evaluation\", we evaluated accuracy on on test data whcih is representative of true predictive performance.\n",
    "- We get the accuracy of about 72.% on unseen data by using LSTMs."
   ]
  },
  {
   "cell_type": "markdown",
   "metadata": {},
   "source": [
    "# End Results"
   ]
  },
  {
   "cell_type": "markdown",
   "metadata": {},
   "source": [
    "- We evaluated accuracy on on test data whcih is representative of true predictive performance.\n",
    "- We get the accuracy of about **74.%** on unseen data by using **Random Forest** which is happened to be Best Accuracy till now."
   ]
  }
 ],
 "metadata": {
  "kernelspec": {
   "display_name": "Python 3",
   "language": "python",
   "name": "python3"
  },
  "language_info": {
   "codemirror_mode": {
    "name": "ipython",
    "version": 3
   },
   "file_extension": ".py",
   "mimetype": "text/x-python",
   "name": "python",
   "nbconvert_exporter": "python",
   "pygments_lexer": "ipython3",
   "version": "3.7.3"
  }
 },
 "nbformat": 4,
 "nbformat_minor": 4
}
